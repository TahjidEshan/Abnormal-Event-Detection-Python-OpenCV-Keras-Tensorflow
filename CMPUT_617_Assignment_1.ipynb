{
  "nbformat": 4,
  "nbformat_minor": 0,
  "metadata": {
    "colab": {
      "name": "CMPUT 617 Assignment 1",
      "version": "0.3.2",
      "provenance": [],
      "collapsed_sections": [],
      "include_colab_link": true
    },
    "kernelspec": {
      "name": "python3",
      "display_name": "Python 3"
    }
  },
  "cells": [
    {
      "cell_type": "markdown",
      "metadata": {
        "id": "view-in-github",
        "colab_type": "text"
      },
      "source": [
        "<a href=\"https://colab.research.google.com/github/TahjidEshan/Abnormal-Event-Detection-Python-OpenCV-Keras-Tensorflow/blob/master/CMPUT_617_Assignment_1.ipynb\" target=\"_parent\"><img src=\"https://colab.research.google.com/assets/colab-badge.svg\" alt=\"Open In Colab\"/></a>"
      ]
    },
    {
      "cell_type": "code",
      "metadata": {
        "id": "hSJHLxxHjxxL",
        "colab_type": "code",
        "outputId": "31587cd7-dd5a-4b58-a1df-2725fd7943f6",
        "colab": {
          "base_uri": "https://localhost:8080/",
          "height": 34
        }
      },
      "source": [
        "import torch\n",
        "\n",
        "from google.colab import drive\n",
        "drive.mount('/content/drive', force_remount=True)"
      ],
      "execution_count": 0,
      "outputs": [
        {
          "output_type": "stream",
          "text": [
            "Mounted at /content/drive\n"
          ],
          "name": "stdout"
        }
      ]
    },
    {
      "cell_type": "code",
      "metadata": {
        "id": "qDoR7fDikxv_",
        "colab_type": "code",
        "outputId": "ea1d1ebb-b5fb-4e22-ea7d-e8b6e3844db6",
        "colab": {
          "base_uri": "https://localhost:8080/",
          "height": 68
        }
      },
      "source": [
        "from torch.utils.data import random_split\n",
        "import torchvision\n",
        "\n",
        "#!ls \"/content/drive/My Drive/Fall 19/617/Assignment 1/Pictures\"  #Checking google drive access\n",
        "\n",
        "!unzip \"/content/drive/My Drive/Fall 19/617/Assignment 1/Pictures.zip\" -d \"/content/drive/My Drive/Fall 19/Assignment 1/Pictures\"\n",
        "\n"
      ],
      "execution_count": 0,
      "outputs": [
        {
          "output_type": "stream",
          "text": [
            "Archive:  /content/drive/My Drive/Fall 19/617/Assignment 1/Pictures.zip\n",
            "checkdir:  cannot create extraction directory: /content/drive/My Drive/Fall 19/Assignment 1/Pictures\n",
            "           No such file or directory\n"
          ],
          "name": "stdout"
        }
      ]
    }
  ]
}